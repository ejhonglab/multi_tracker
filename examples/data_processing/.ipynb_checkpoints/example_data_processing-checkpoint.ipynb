{
 "cells": [
  {
   "cell_type": "code",
   "execution_count": 1,
   "metadata": {
    "collapsed": false
   },
   "outputs": [
    {
     "name": "stdout",
     "output_type": "stream",
     "text": [
      "2.6.0\n"
     ]
    }
   ],
   "source": [
    "# import multi tracker analysis\n",
    "import multi_tracker_analysis as mta\n",
    "\n",
    "import h5py\n",
    "\n",
    "print(h5py.__version__)"
   ]
  },
  {
   "cell_type": "code",
   "execution_count": null,
   "metadata": {
    "collapsed": false
   },
   "outputs": [],
   "source": [
    "# load hdf5 data as a pandas dataframe, and load the configuration\n",
    "# change the argument to match your data path!\n",
    "\n",
    "#pd, config = mta.read_hdf5_file_to_pandas.load_and_preprocess_data('/home/tom/src/catkin/src/multi_tracker/examples/sample_data/')\n",
    "pd, config = mta.read_hdf5_file_to_pandas.load_and_preprocess_data('/media/tb/data-sets/dickinson/demo_1/data/20161014_151638_N1_trackedobjects.hdf5s')\n"
   ]
  },
  {
   "cell_type": "code",
   "execution_count": null,
   "metadata": {
    "collapsed": false
   },
   "outputs": [],
   "source": [
    "# pandas dataframe structure: each row is a measurement corresponding to one of the objects for each frame\n",
    "pd.keys()"
   ]
  },
  {
   "cell_type": "code",
   "execution_count": null,
   "metadata": {
    "collapsed": false
   },
   "outputs": [],
   "source": [
    "# show the object id's\n",
    "import numpy as np\n",
    "np.unique(pd.objid)"
   ]
  },
  {
   "cell_type": "code",
   "execution_count": null,
   "metadata": {
    "collapsed": false
   },
   "outputs": [],
   "source": [
    "position_for_10 = pd[pd.objid==10].position_x.values\n",
    "position_for_10"
   ]
  },
  {
   "cell_type": "code",
   "execution_count": null,
   "metadata": {
    "collapsed": false
   },
   "outputs": [],
   "source": [
    "# wrap pandas dataframe into a dataset object for intuitive processing\n",
    "# note: using copy=True creates a copy of the data\n",
    "#       this allows you to add attributes to trajecties and pickle the dataset structure for future use\n",
    "dataset = mta.read_hdf5_file_to_pandas.Dataset(pd, config=config)\n",
    "dataset.load_keys() # load the object ids\n",
    "trajec = dataset.trajec(dataset.keys[7]) # load the 7th trajectory\n",
    "trajec.position_x # show the position x data\n",
    "\n",
    "print(max(trajec.position_x))\n",
    "print(max(trajec.position_y))\n",
    "print(min(trajec.position_x))\n",
    "print(min(trajec.position_y))"
   ]
  },
  {
   "cell_type": "code",
   "execution_count": null,
   "metadata": {
    "collapsed": true
   },
   "outputs": [],
   "source": [
    "import matplotlib.pyplot as plt\n",
    "%matplotlib inline"
   ]
  },
  {
   "cell_type": "code",
   "execution_count": null,
   "metadata": {
    "collapsed": false,
    "scrolled": true
   },
   "outputs": [],
   "source": [
    "# plot the trajectory; this requires downloading my plotting library: https://github.com/florisvb/FlyPlotLib\n",
    "# binsx, binsy = mta.plot.get_bins_from_backgroundimage(backgroundimage)\n",
    "\n",
    "'''\n",
    "print(type(dataset))\n",
    "print(dir(dataset))\n",
    "print(dataset.pd)\n",
    "'''\n",
    "\n",
    "bgimg = mta.plot.get_filename(config.path, 'bgimg')\n",
    "binsx, binsy = mta.plot.get_bins_from_backgroundimage(bgimg)\n",
    "\n",
    "# mta.plot.plot_trajectories(dataset, dataset.keys)\n",
    "mta.plot.plot_trajectories(dataset.pd, binsx, binsy)"
   ]
  },
  {
   "cell_type": "code",
   "execution_count": 14,
   "metadata": {
    "collapsed": false
   },
   "outputs": [
    {
     "data": {
      "text/plain": [
       "<matplotlib.axes.AxesSubplot at 0x7f5867ad6690>"
      ]
     },
     "execution_count": 14,
     "metadata": {},
     "output_type": "execute_result"
    },
    {
     "data": {
      "image/png": "[encoded data removed]",
      "text/plain": [
       "<matplotlib.figure.Figure at 0x7f58d02b46d0>"
      ]
     },
     "metadata": {},
     "output_type": "display_data"
    }
   ],
   "source": [
    "# make a heatmap of the trajectories\n",
    "bgimg = mta.plot.get_filename(config.path, 'bgimg')\n",
    "binsx, binsy = mta.plot.get_bins_from_backgroundimage(bgimg)\n",
    "mta.plot.plot_heatmap(pd, binsx, binsy)"
   ]
  },
  {
   "cell_type": "code",
   "execution_count": null,
   "metadata": {
    "collapsed": true
   },
   "outputs": [],
   "source": []
  }
 ],
 "metadata": {
  "kernelspec": {
   "display_name": "Python 2",
   "language": "python",
   "name": "python2"
  },
  "language_info": {
   "codemirror_mode": {
    "name": "ipython",
    "version": 2
   },
   "file_extension": ".py",
   "mimetype": "text/x-python",
   "name": "python",
   "nbconvert_exporter": "python",
   "pygments_lexer": "ipython2",
   "version": "2.7.12"
  }
 },
 "nbformat": 4,
 "nbformat_minor": 0
}
